{
  "nbformat": 4,
  "nbformat_minor": 0,
  "metadata": {
    "colab": {
      "name": "TCR INNOVATION ( UBER REQUEST DATA EDA ).ipynb",
      "provenance": [],
      "authorship_tag": "ABX9TyMc0AZ8ShBXM6yO2NmfgYzP",
      "include_colab_link": true
    },
    "kernelspec": {
      "name": "python3",
      "display_name": "Python 3"
    },
    "language_info": {
      "name": "python"
    }
  },
  "cells": [
    {
      "cell_type": "markdown",
      "metadata": {
        "id": "view-in-github",
        "colab_type": "text"
      },
      "source": [
        "<a href=\"https://colab.research.google.com/github/hundareshivani/TCR-INNOVATION-PROJECT-UBER-REQUEST-DATA-ANALYSIS-/blob/main/TCR_INNOVATION_(_UBER_REQUEST_DATA_EDA_).ipynb\" target=\"_parent\"><img src=\"https://colab.research.google.com/assets/colab-badge.svg\" alt=\"Open In Colab\"/></a>"
      ]
    },
    {
      "cell_type": "markdown",
      "metadata": {
        "id": "rdtKfIzesUKf"
      },
      "source": [
        "#**TCR INNOVATION PROJECT**#\n",
        "\n",
        "##**TOPIC : UBER REQUEST DATA EDA**##\n",
        "\n",
        "\n",
        "\n",
        "\n",
        "\n",
        "####**AUTHOR : SHIVANI UTTAM HUNDARE**####"
      ]
    },
    {
      "cell_type": "markdown",
      "metadata": {
        "id": "eqtfmfCZqxTk"
      },
      "source": [
        "#**IMPORTING  LIBRARIES .**#"
      ]
    },
    {
      "cell_type": "code",
      "metadata": {
        "id": "sjdVaTBKKKYa"
      },
      "source": [
        "import pandas as pd\n",
        "import numpy as np\n",
        "import matplotlib.pyplot as plt"
      ],
      "execution_count": 5,
      "outputs": []
    },
    {
      "cell_type": "markdown",
      "metadata": {
        "id": "AL6Ebb6GrJLu"
      },
      "source": [
        "#**READING  DATASET .**#"
      ]
    },
    {
      "cell_type": "code",
      "metadata": {
        "colab": {
          "base_uri": "https://localhost:8080/",
          "height": 418
        },
        "id": "DW7TeHwCKkXK",
        "outputId": "80dbf7db-7d3c-4f75-adaa-01c371f9c82d"
      },
      "source": [
        "data = pd.read_csv(\"/content/Uber Request Data.csv\")\n",
        "data"
      ],
      "execution_count": 6,
      "outputs": [
        {
          "output_type": "execute_result",
          "data": {
            "text/html": [
              "<div>\n",
              "<style scoped>\n",
              "    .dataframe tbody tr th:only-of-type {\n",
              "        vertical-align: middle;\n",
              "    }\n",
              "\n",
              "    .dataframe tbody tr th {\n",
              "        vertical-align: top;\n",
              "    }\n",
              "\n",
              "    .dataframe thead th {\n",
              "        text-align: right;\n",
              "    }\n",
              "</style>\n",
              "<table border=\"1\" class=\"dataframe\">\n",
              "  <thead>\n",
              "    <tr style=\"text-align: right;\">\n",
              "      <th></th>\n",
              "      <th>Request id</th>\n",
              "      <th>Pickup point</th>\n",
              "      <th>Driver id</th>\n",
              "      <th>Status</th>\n",
              "      <th>Request timestamp</th>\n",
              "      <th>Drop timestamp</th>\n",
              "    </tr>\n",
              "  </thead>\n",
              "  <tbody>\n",
              "    <tr>\n",
              "      <th>0</th>\n",
              "      <td>619</td>\n",
              "      <td>Airport</td>\n",
              "      <td>1.0</td>\n",
              "      <td>Trip Completed</td>\n",
              "      <td>11/7/2016 11:51</td>\n",
              "      <td>11/7/2016 13:00</td>\n",
              "    </tr>\n",
              "    <tr>\n",
              "      <th>1</th>\n",
              "      <td>867</td>\n",
              "      <td>Airport</td>\n",
              "      <td>1.0</td>\n",
              "      <td>Trip Completed</td>\n",
              "      <td>11/7/2016 17:57</td>\n",
              "      <td>11/7/2016 18:47</td>\n",
              "    </tr>\n",
              "    <tr>\n",
              "      <th>2</th>\n",
              "      <td>1807</td>\n",
              "      <td>City</td>\n",
              "      <td>1.0</td>\n",
              "      <td>Trip Completed</td>\n",
              "      <td>12/7/2016 9:17</td>\n",
              "      <td>12/7/2016 9:58</td>\n",
              "    </tr>\n",
              "    <tr>\n",
              "      <th>3</th>\n",
              "      <td>2532</td>\n",
              "      <td>Airport</td>\n",
              "      <td>1.0</td>\n",
              "      <td>Trip Completed</td>\n",
              "      <td>12/7/2016 21:08</td>\n",
              "      <td>12/7/2016 22:03</td>\n",
              "    </tr>\n",
              "    <tr>\n",
              "      <th>4</th>\n",
              "      <td>3112</td>\n",
              "      <td>City</td>\n",
              "      <td>1.0</td>\n",
              "      <td>Trip Completed</td>\n",
              "      <td>13-07-2016 08:33:16</td>\n",
              "      <td>13-07-2016 09:25:47</td>\n",
              "    </tr>\n",
              "    <tr>\n",
              "      <th>...</th>\n",
              "      <td>...</td>\n",
              "      <td>...</td>\n",
              "      <td>...</td>\n",
              "      <td>...</td>\n",
              "      <td>...</td>\n",
              "      <td>...</td>\n",
              "    </tr>\n",
              "    <tr>\n",
              "      <th>6740</th>\n",
              "      <td>6745</td>\n",
              "      <td>City</td>\n",
              "      <td>NaN</td>\n",
              "      <td>No Cars Available</td>\n",
              "      <td>15-07-2016 23:49:03</td>\n",
              "      <td>NaN</td>\n",
              "    </tr>\n",
              "    <tr>\n",
              "      <th>6741</th>\n",
              "      <td>6752</td>\n",
              "      <td>Airport</td>\n",
              "      <td>NaN</td>\n",
              "      <td>No Cars Available</td>\n",
              "      <td>15-07-2016 23:50:05</td>\n",
              "      <td>NaN</td>\n",
              "    </tr>\n",
              "    <tr>\n",
              "      <th>6742</th>\n",
              "      <td>6751</td>\n",
              "      <td>City</td>\n",
              "      <td>NaN</td>\n",
              "      <td>No Cars Available</td>\n",
              "      <td>15-07-2016 23:52:06</td>\n",
              "      <td>NaN</td>\n",
              "    </tr>\n",
              "    <tr>\n",
              "      <th>6743</th>\n",
              "      <td>6754</td>\n",
              "      <td>City</td>\n",
              "      <td>NaN</td>\n",
              "      <td>No Cars Available</td>\n",
              "      <td>15-07-2016 23:54:39</td>\n",
              "      <td>NaN</td>\n",
              "    </tr>\n",
              "    <tr>\n",
              "      <th>6744</th>\n",
              "      <td>6753</td>\n",
              "      <td>Airport</td>\n",
              "      <td>NaN</td>\n",
              "      <td>No Cars Available</td>\n",
              "      <td>15-07-2016 23:55:03</td>\n",
              "      <td>NaN</td>\n",
              "    </tr>\n",
              "  </tbody>\n",
              "</table>\n",
              "<p>6745 rows × 6 columns</p>\n",
              "</div>"
            ],
            "text/plain": [
              "      Request id Pickup point  ...    Request timestamp       Drop timestamp\n",
              "0            619      Airport  ...      11/7/2016 11:51      11/7/2016 13:00\n",
              "1            867      Airport  ...      11/7/2016 17:57      11/7/2016 18:47\n",
              "2           1807         City  ...       12/7/2016 9:17       12/7/2016 9:58\n",
              "3           2532      Airport  ...      12/7/2016 21:08      12/7/2016 22:03\n",
              "4           3112         City  ...  13-07-2016 08:33:16  13-07-2016 09:25:47\n",
              "...          ...          ...  ...                  ...                  ...\n",
              "6740        6745         City  ...  15-07-2016 23:49:03                  NaN\n",
              "6741        6752      Airport  ...  15-07-2016 23:50:05                  NaN\n",
              "6742        6751         City  ...  15-07-2016 23:52:06                  NaN\n",
              "6743        6754         City  ...  15-07-2016 23:54:39                  NaN\n",
              "6744        6753      Airport  ...  15-07-2016 23:55:03                  NaN\n",
              "\n",
              "[6745 rows x 6 columns]"
            ]
          },
          "metadata": {},
          "execution_count": 6
        }
      ]
    },
    {
      "cell_type": "code",
      "metadata": {
        "colab": {
          "base_uri": "https://localhost:8080/"
        },
        "id": "2lm3jNlRKkZX",
        "outputId": "6f836f01-4c37-4262-8ab8-a4e681bc4787"
      },
      "source": [
        "print(data.shape)"
      ],
      "execution_count": 7,
      "outputs": [
        {
          "output_type": "stream",
          "name": "stdout",
          "text": [
            "(6745, 6)\n"
          ]
        }
      ]
    },
    {
      "cell_type": "code",
      "metadata": {
        "colab": {
          "base_uri": "https://localhost:8080/",
          "height": 204
        },
        "id": "l_SfisIdKkcO",
        "outputId": "aa8889bf-ca19-4775-a47e-c5a039d46995"
      },
      "source": [
        "data.head()"
      ],
      "execution_count": 8,
      "outputs": [
        {
          "output_type": "execute_result",
          "data": {
            "text/html": [
              "<div>\n",
              "<style scoped>\n",
              "    .dataframe tbody tr th:only-of-type {\n",
              "        vertical-align: middle;\n",
              "    }\n",
              "\n",
              "    .dataframe tbody tr th {\n",
              "        vertical-align: top;\n",
              "    }\n",
              "\n",
              "    .dataframe thead th {\n",
              "        text-align: right;\n",
              "    }\n",
              "</style>\n",
              "<table border=\"1\" class=\"dataframe\">\n",
              "  <thead>\n",
              "    <tr style=\"text-align: right;\">\n",
              "      <th></th>\n",
              "      <th>Request id</th>\n",
              "      <th>Pickup point</th>\n",
              "      <th>Driver id</th>\n",
              "      <th>Status</th>\n",
              "      <th>Request timestamp</th>\n",
              "      <th>Drop timestamp</th>\n",
              "    </tr>\n",
              "  </thead>\n",
              "  <tbody>\n",
              "    <tr>\n",
              "      <th>0</th>\n",
              "      <td>619</td>\n",
              "      <td>Airport</td>\n",
              "      <td>1.0</td>\n",
              "      <td>Trip Completed</td>\n",
              "      <td>11/7/2016 11:51</td>\n",
              "      <td>11/7/2016 13:00</td>\n",
              "    </tr>\n",
              "    <tr>\n",
              "      <th>1</th>\n",
              "      <td>867</td>\n",
              "      <td>Airport</td>\n",
              "      <td>1.0</td>\n",
              "      <td>Trip Completed</td>\n",
              "      <td>11/7/2016 17:57</td>\n",
              "      <td>11/7/2016 18:47</td>\n",
              "    </tr>\n",
              "    <tr>\n",
              "      <th>2</th>\n",
              "      <td>1807</td>\n",
              "      <td>City</td>\n",
              "      <td>1.0</td>\n",
              "      <td>Trip Completed</td>\n",
              "      <td>12/7/2016 9:17</td>\n",
              "      <td>12/7/2016 9:58</td>\n",
              "    </tr>\n",
              "    <tr>\n",
              "      <th>3</th>\n",
              "      <td>2532</td>\n",
              "      <td>Airport</td>\n",
              "      <td>1.0</td>\n",
              "      <td>Trip Completed</td>\n",
              "      <td>12/7/2016 21:08</td>\n",
              "      <td>12/7/2016 22:03</td>\n",
              "    </tr>\n",
              "    <tr>\n",
              "      <th>4</th>\n",
              "      <td>3112</td>\n",
              "      <td>City</td>\n",
              "      <td>1.0</td>\n",
              "      <td>Trip Completed</td>\n",
              "      <td>13-07-2016 08:33:16</td>\n",
              "      <td>13-07-2016 09:25:47</td>\n",
              "    </tr>\n",
              "  </tbody>\n",
              "</table>\n",
              "</div>"
            ],
            "text/plain": [
              "   Request id Pickup point  ...    Request timestamp       Drop timestamp\n",
              "0         619      Airport  ...      11/7/2016 11:51      11/7/2016 13:00\n",
              "1         867      Airport  ...      11/7/2016 17:57      11/7/2016 18:47\n",
              "2        1807         City  ...       12/7/2016 9:17       12/7/2016 9:58\n",
              "3        2532      Airport  ...      12/7/2016 21:08      12/7/2016 22:03\n",
              "4        3112         City  ...  13-07-2016 08:33:16  13-07-2016 09:25:47\n",
              "\n",
              "[5 rows x 6 columns]"
            ]
          },
          "metadata": {},
          "execution_count": 8
        }
      ]
    },
    {
      "cell_type": "code",
      "metadata": {
        "colab": {
          "base_uri": "https://localhost:8080/",
          "height": 204
        },
        "id": "zHO9MPHzKkf8",
        "outputId": "40a08d55-6b2a-4661-aa4a-027f2db39306"
      },
      "source": [
        "data.tail()"
      ],
      "execution_count": 9,
      "outputs": [
        {
          "output_type": "execute_result",
          "data": {
            "text/html": [
              "<div>\n",
              "<style scoped>\n",
              "    .dataframe tbody tr th:only-of-type {\n",
              "        vertical-align: middle;\n",
              "    }\n",
              "\n",
              "    .dataframe tbody tr th {\n",
              "        vertical-align: top;\n",
              "    }\n",
              "\n",
              "    .dataframe thead th {\n",
              "        text-align: right;\n",
              "    }\n",
              "</style>\n",
              "<table border=\"1\" class=\"dataframe\">\n",
              "  <thead>\n",
              "    <tr style=\"text-align: right;\">\n",
              "      <th></th>\n",
              "      <th>Request id</th>\n",
              "      <th>Pickup point</th>\n",
              "      <th>Driver id</th>\n",
              "      <th>Status</th>\n",
              "      <th>Request timestamp</th>\n",
              "      <th>Drop timestamp</th>\n",
              "    </tr>\n",
              "  </thead>\n",
              "  <tbody>\n",
              "    <tr>\n",
              "      <th>6740</th>\n",
              "      <td>6745</td>\n",
              "      <td>City</td>\n",
              "      <td>NaN</td>\n",
              "      <td>No Cars Available</td>\n",
              "      <td>15-07-2016 23:49:03</td>\n",
              "      <td>NaN</td>\n",
              "    </tr>\n",
              "    <tr>\n",
              "      <th>6741</th>\n",
              "      <td>6752</td>\n",
              "      <td>Airport</td>\n",
              "      <td>NaN</td>\n",
              "      <td>No Cars Available</td>\n",
              "      <td>15-07-2016 23:50:05</td>\n",
              "      <td>NaN</td>\n",
              "    </tr>\n",
              "    <tr>\n",
              "      <th>6742</th>\n",
              "      <td>6751</td>\n",
              "      <td>City</td>\n",
              "      <td>NaN</td>\n",
              "      <td>No Cars Available</td>\n",
              "      <td>15-07-2016 23:52:06</td>\n",
              "      <td>NaN</td>\n",
              "    </tr>\n",
              "    <tr>\n",
              "      <th>6743</th>\n",
              "      <td>6754</td>\n",
              "      <td>City</td>\n",
              "      <td>NaN</td>\n",
              "      <td>No Cars Available</td>\n",
              "      <td>15-07-2016 23:54:39</td>\n",
              "      <td>NaN</td>\n",
              "    </tr>\n",
              "    <tr>\n",
              "      <th>6744</th>\n",
              "      <td>6753</td>\n",
              "      <td>Airport</td>\n",
              "      <td>NaN</td>\n",
              "      <td>No Cars Available</td>\n",
              "      <td>15-07-2016 23:55:03</td>\n",
              "      <td>NaN</td>\n",
              "    </tr>\n",
              "  </tbody>\n",
              "</table>\n",
              "</div>"
            ],
            "text/plain": [
              "      Request id Pickup point  ...    Request timestamp Drop timestamp\n",
              "6740        6745         City  ...  15-07-2016 23:49:03            NaN\n",
              "6741        6752      Airport  ...  15-07-2016 23:50:05            NaN\n",
              "6742        6751         City  ...  15-07-2016 23:52:06            NaN\n",
              "6743        6754         City  ...  15-07-2016 23:54:39            NaN\n",
              "6744        6753      Airport  ...  15-07-2016 23:55:03            NaN\n",
              "\n",
              "[5 rows x 6 columns]"
            ]
          },
          "metadata": {},
          "execution_count": 9
        }
      ]
    },
    {
      "cell_type": "code",
      "metadata": {
        "colab": {
          "base_uri": "https://localhost:8080/"
        },
        "id": "pHgC0HDeKkik",
        "outputId": "41530529-8207-4762-f50b-ff887fb4a454"
      },
      "source": [
        "data.dtypes"
      ],
      "execution_count": 10,
      "outputs": [
        {
          "output_type": "execute_result",
          "data": {
            "text/plain": [
              "Request id             int64\n",
              "Pickup point          object\n",
              "Driver id            float64\n",
              "Status                object\n",
              "Request timestamp     object\n",
              "Drop timestamp        object\n",
              "dtype: object"
            ]
          },
          "metadata": {},
          "execution_count": 10
        }
      ]
    },
    {
      "cell_type": "code",
      "metadata": {
        "colab": {
          "base_uri": "https://localhost:8080/"
        },
        "id": "hJfSBgwSO-w8",
        "outputId": "b07552bf-6bb6-4177-c07b-3d49cadace17"
      },
      "source": [
        "data.dtypes.value_counts()"
      ],
      "execution_count": 11,
      "outputs": [
        {
          "output_type": "execute_result",
          "data": {
            "text/plain": [
              "object     4\n",
              "int64      1\n",
              "float64    1\n",
              "dtype: int64"
            ]
          },
          "metadata": {},
          "execution_count": 11
        }
      ]
    },
    {
      "cell_type": "code",
      "metadata": {
        "colab": {
          "base_uri": "https://localhost:8080/"
        },
        "id": "pL8LFazRPVOa",
        "outputId": "e564c822-d8e4-473a-b3e6-3cd35a4a082f"
      },
      "source": [
        "data.Status.value_counts()"
      ],
      "execution_count": 12,
      "outputs": [
        {
          "output_type": "execute_result",
          "data": {
            "text/plain": [
              "Trip Completed       2831\n",
              "No Cars Available    2650\n",
              "Cancelled            1264\n",
              "Name: Status, dtype: int64"
            ]
          },
          "metadata": {},
          "execution_count": 12
        }
      ]
    },
    {
      "cell_type": "markdown",
      "metadata": {
        "id": "50OWHdHlrVtM"
      },
      "source": [
        "#**TO FIND NULL VALUES .**#"
      ]
    },
    {
      "cell_type": "code",
      "metadata": {
        "colab": {
          "base_uri": "https://localhost:8080/",
          "height": 418
        },
        "id": "laVGq6IYKklW",
        "outputId": "e57c5ae0-9995-495d-89fe-e8408468d440"
      },
      "source": [
        "data.isnull()"
      ],
      "execution_count": 13,
      "outputs": [
        {
          "output_type": "execute_result",
          "data": {
            "text/html": [
              "<div>\n",
              "<style scoped>\n",
              "    .dataframe tbody tr th:only-of-type {\n",
              "        vertical-align: middle;\n",
              "    }\n",
              "\n",
              "    .dataframe tbody tr th {\n",
              "        vertical-align: top;\n",
              "    }\n",
              "\n",
              "    .dataframe thead th {\n",
              "        text-align: right;\n",
              "    }\n",
              "</style>\n",
              "<table border=\"1\" class=\"dataframe\">\n",
              "  <thead>\n",
              "    <tr style=\"text-align: right;\">\n",
              "      <th></th>\n",
              "      <th>Request id</th>\n",
              "      <th>Pickup point</th>\n",
              "      <th>Driver id</th>\n",
              "      <th>Status</th>\n",
              "      <th>Request timestamp</th>\n",
              "      <th>Drop timestamp</th>\n",
              "    </tr>\n",
              "  </thead>\n",
              "  <tbody>\n",
              "    <tr>\n",
              "      <th>0</th>\n",
              "      <td>False</td>\n",
              "      <td>False</td>\n",
              "      <td>False</td>\n",
              "      <td>False</td>\n",
              "      <td>False</td>\n",
              "      <td>False</td>\n",
              "    </tr>\n",
              "    <tr>\n",
              "      <th>1</th>\n",
              "      <td>False</td>\n",
              "      <td>False</td>\n",
              "      <td>False</td>\n",
              "      <td>False</td>\n",
              "      <td>False</td>\n",
              "      <td>False</td>\n",
              "    </tr>\n",
              "    <tr>\n",
              "      <th>2</th>\n",
              "      <td>False</td>\n",
              "      <td>False</td>\n",
              "      <td>False</td>\n",
              "      <td>False</td>\n",
              "      <td>False</td>\n",
              "      <td>False</td>\n",
              "    </tr>\n",
              "    <tr>\n",
              "      <th>3</th>\n",
              "      <td>False</td>\n",
              "      <td>False</td>\n",
              "      <td>False</td>\n",
              "      <td>False</td>\n",
              "      <td>False</td>\n",
              "      <td>False</td>\n",
              "    </tr>\n",
              "    <tr>\n",
              "      <th>4</th>\n",
              "      <td>False</td>\n",
              "      <td>False</td>\n",
              "      <td>False</td>\n",
              "      <td>False</td>\n",
              "      <td>False</td>\n",
              "      <td>False</td>\n",
              "    </tr>\n",
              "    <tr>\n",
              "      <th>...</th>\n",
              "      <td>...</td>\n",
              "      <td>...</td>\n",
              "      <td>...</td>\n",
              "      <td>...</td>\n",
              "      <td>...</td>\n",
              "      <td>...</td>\n",
              "    </tr>\n",
              "    <tr>\n",
              "      <th>6740</th>\n",
              "      <td>False</td>\n",
              "      <td>False</td>\n",
              "      <td>True</td>\n",
              "      <td>False</td>\n",
              "      <td>False</td>\n",
              "      <td>True</td>\n",
              "    </tr>\n",
              "    <tr>\n",
              "      <th>6741</th>\n",
              "      <td>False</td>\n",
              "      <td>False</td>\n",
              "      <td>True</td>\n",
              "      <td>False</td>\n",
              "      <td>False</td>\n",
              "      <td>True</td>\n",
              "    </tr>\n",
              "    <tr>\n",
              "      <th>6742</th>\n",
              "      <td>False</td>\n",
              "      <td>False</td>\n",
              "      <td>True</td>\n",
              "      <td>False</td>\n",
              "      <td>False</td>\n",
              "      <td>True</td>\n",
              "    </tr>\n",
              "    <tr>\n",
              "      <th>6743</th>\n",
              "      <td>False</td>\n",
              "      <td>False</td>\n",
              "      <td>True</td>\n",
              "      <td>False</td>\n",
              "      <td>False</td>\n",
              "      <td>True</td>\n",
              "    </tr>\n",
              "    <tr>\n",
              "      <th>6744</th>\n",
              "      <td>False</td>\n",
              "      <td>False</td>\n",
              "      <td>True</td>\n",
              "      <td>False</td>\n",
              "      <td>False</td>\n",
              "      <td>True</td>\n",
              "    </tr>\n",
              "  </tbody>\n",
              "</table>\n",
              "<p>6745 rows × 6 columns</p>\n",
              "</div>"
            ],
            "text/plain": [
              "      Request id  Pickup point  ...  Request timestamp  Drop timestamp\n",
              "0          False         False  ...              False           False\n",
              "1          False         False  ...              False           False\n",
              "2          False         False  ...              False           False\n",
              "3          False         False  ...              False           False\n",
              "4          False         False  ...              False           False\n",
              "...          ...           ...  ...                ...             ...\n",
              "6740       False         False  ...              False            True\n",
              "6741       False         False  ...              False            True\n",
              "6742       False         False  ...              False            True\n",
              "6743       False         False  ...              False            True\n",
              "6744       False         False  ...              False            True\n",
              "\n",
              "[6745 rows x 6 columns]"
            ]
          },
          "metadata": {},
          "execution_count": 13
        }
      ]
    },
    {
      "cell_type": "code",
      "metadata": {
        "colab": {
          "base_uri": "https://localhost:8080/"
        },
        "id": "I8Dlb5wtKknk",
        "outputId": "5c7f4203-fe73-4acd-fa84-1b5c9ef961f8"
      },
      "source": [
        "data.isnull().sum()"
      ],
      "execution_count": 14,
      "outputs": [
        {
          "output_type": "execute_result",
          "data": {
            "text/plain": [
              "Request id              0\n",
              "Pickup point            0\n",
              "Driver id            2650\n",
              "Status                  0\n",
              "Request timestamp       0\n",
              "Drop timestamp       3914\n",
              "dtype: int64"
            ]
          },
          "metadata": {},
          "execution_count": 14
        }
      ]
    },
    {
      "cell_type": "code",
      "metadata": {
        "colab": {
          "base_uri": "https://localhost:8080/"
        },
        "id": "vSzMaxA3Kkpf",
        "outputId": "ad4aa222-59b4-4841-f96b-e8f72e1cf0c1"
      },
      "source": [
        "data.info()"
      ],
      "execution_count": 15,
      "outputs": [
        {
          "output_type": "stream",
          "name": "stdout",
          "text": [
            "<class 'pandas.core.frame.DataFrame'>\n",
            "RangeIndex: 6745 entries, 0 to 6744\n",
            "Data columns (total 6 columns):\n",
            " #   Column             Non-Null Count  Dtype  \n",
            "---  ------             --------------  -----  \n",
            " 0   Request id         6745 non-null   int64  \n",
            " 1   Pickup point       6745 non-null   object \n",
            " 2   Driver id          4095 non-null   float64\n",
            " 3   Status             6745 non-null   object \n",
            " 4   Request timestamp  6745 non-null   object \n",
            " 5   Drop timestamp     2831 non-null   object \n",
            "dtypes: float64(1), int64(1), object(4)\n",
            "memory usage: 316.3+ KB\n"
          ]
        }
      ]
    },
    {
      "cell_type": "code",
      "metadata": {
        "colab": {
          "base_uri": "https://localhost:8080/"
        },
        "id": "MtrMSD6JKkrU",
        "outputId": "22720bd6-813f-4c02-abc1-2ff5f49b916c"
      },
      "source": [
        "data.select_dtypes(include=['object']).columns"
      ],
      "execution_count": 16,
      "outputs": [
        {
          "output_type": "execute_result",
          "data": {
            "text/plain": [
              "Index(['Pickup point', 'Status', 'Request timestamp', 'Drop timestamp'], dtype='object')"
            ]
          },
          "metadata": {},
          "execution_count": 16
        }
      ]
    },
    {
      "cell_type": "code",
      "metadata": {
        "colab": {
          "base_uri": "https://localhost:8080/"
        },
        "id": "KMjhG4tWKks-",
        "outputId": "21cf4622-cdd3-4dc7-f962-e1eeb92f1294"
      },
      "source": [
        "data.select_dtypes(include=['int64']).columns"
      ],
      "execution_count": 17,
      "outputs": [
        {
          "output_type": "execute_result",
          "data": {
            "text/plain": [
              "Index(['Request id'], dtype='object')"
            ]
          },
          "metadata": {},
          "execution_count": 17
        }
      ]
    },
    {
      "cell_type": "code",
      "metadata": {
        "colab": {
          "base_uri": "https://localhost:8080/"
        },
        "id": "kmE4lR4wKkvk",
        "outputId": "75087fc0-8b08-4ad5-a4fa-45a00f9afeb3"
      },
      "source": [
        "data.select_dtypes(include=['float64']).columns"
      ],
      "execution_count": 18,
      "outputs": [
        {
          "output_type": "execute_result",
          "data": {
            "text/plain": [
              "Index(['Driver id'], dtype='object')"
            ]
          },
          "metadata": {},
          "execution_count": 18
        }
      ]
    },
    {
      "cell_type": "code",
      "metadata": {
        "colab": {
          "base_uri": "https://localhost:8080/"
        },
        "id": "HhY6s92FKkxi",
        "outputId": "49541bf0-2452-4aa3-d6b6-e28f4cf28f2e"
      },
      "source": [
        "data.duplicated().sum()"
      ],
      "execution_count": 19,
      "outputs": [
        {
          "output_type": "execute_result",
          "data": {
            "text/plain": [
              "0"
            ]
          },
          "metadata": {},
          "execution_count": 19
        }
      ]
    },
    {
      "cell_type": "code",
      "metadata": {
        "id": "Pun3UDTYQNLA"
      },
      "source": [
        "data[\"Request timestamp\"] = pd.to_datetime(data[\"Request timestamp\"])\n",
        "data[\"Drop timestamp\"] = pd.to_datetime(data[\"Drop timestamp\"])"
      ],
      "execution_count": 20,
      "outputs": []
    },
    {
      "cell_type": "code",
      "metadata": {
        "colab": {
          "base_uri": "https://localhost:8080/",
          "height": 204
        },
        "id": "94W3LaIjsoxr",
        "outputId": "343e5218-3771-4e48-f5da-26ff8a8dd6aa"
      },
      "source": [
        "data.columns = [col.replace(' ', '_') for col in data.columns]\n",
        "data=data.drop(['Request_id','Driver_id','Drop_timestamp'], axis=1)\n",
        "data.head()"
      ],
      "execution_count": 21,
      "outputs": [
        {
          "output_type": "execute_result",
          "data": {
            "text/html": [
              "<div>\n",
              "<style scoped>\n",
              "    .dataframe tbody tr th:only-of-type {\n",
              "        vertical-align: middle;\n",
              "    }\n",
              "\n",
              "    .dataframe tbody tr th {\n",
              "        vertical-align: top;\n",
              "    }\n",
              "\n",
              "    .dataframe thead th {\n",
              "        text-align: right;\n",
              "    }\n",
              "</style>\n",
              "<table border=\"1\" class=\"dataframe\">\n",
              "  <thead>\n",
              "    <tr style=\"text-align: right;\">\n",
              "      <th></th>\n",
              "      <th>Pickup_point</th>\n",
              "      <th>Status</th>\n",
              "      <th>Request_timestamp</th>\n",
              "    </tr>\n",
              "  </thead>\n",
              "  <tbody>\n",
              "    <tr>\n",
              "      <th>0</th>\n",
              "      <td>Airport</td>\n",
              "      <td>Trip Completed</td>\n",
              "      <td>2016-11-07 11:51:00</td>\n",
              "    </tr>\n",
              "    <tr>\n",
              "      <th>1</th>\n",
              "      <td>Airport</td>\n",
              "      <td>Trip Completed</td>\n",
              "      <td>2016-11-07 17:57:00</td>\n",
              "    </tr>\n",
              "    <tr>\n",
              "      <th>2</th>\n",
              "      <td>City</td>\n",
              "      <td>Trip Completed</td>\n",
              "      <td>2016-12-07 09:17:00</td>\n",
              "    </tr>\n",
              "    <tr>\n",
              "      <th>3</th>\n",
              "      <td>Airport</td>\n",
              "      <td>Trip Completed</td>\n",
              "      <td>2016-12-07 21:08:00</td>\n",
              "    </tr>\n",
              "    <tr>\n",
              "      <th>4</th>\n",
              "      <td>City</td>\n",
              "      <td>Trip Completed</td>\n",
              "      <td>2016-07-13 08:33:16</td>\n",
              "    </tr>\n",
              "  </tbody>\n",
              "</table>\n",
              "</div>"
            ],
            "text/plain": [
              "  Pickup_point          Status   Request_timestamp\n",
              "0      Airport  Trip Completed 2016-11-07 11:51:00\n",
              "1      Airport  Trip Completed 2016-11-07 17:57:00\n",
              "2         City  Trip Completed 2016-12-07 09:17:00\n",
              "3      Airport  Trip Completed 2016-12-07 21:08:00\n",
              "4         City  Trip Completed 2016-07-13 08:33:16"
            ]
          },
          "metadata": {},
          "execution_count": 21
        }
      ]
    },
    {
      "cell_type": "code",
      "metadata": {
        "colab": {
          "base_uri": "https://localhost:8080/"
        },
        "id": "X9j6kicCQNRG",
        "outputId": "4177a013-3014-47bd-f8af-969b82dcae73"
      },
      "source": [
        "data['Status'].unique()\n"
      ],
      "execution_count": 22,
      "outputs": [
        {
          "output_type": "execute_result",
          "data": {
            "text/plain": [
              "array(['Trip Completed', 'Cancelled', 'No Cars Available'], dtype=object)"
            ]
          },
          "metadata": {},
          "execution_count": 22
        }
      ]
    },
    {
      "cell_type": "code",
      "metadata": {
        "colab": {
          "base_uri": "https://localhost:8080/",
          "height": 204
        },
        "id": "_YQ8HBz2QNUY",
        "outputId": "90256067-dd24-45a4-b3b9-583af6fa0a28"
      },
      "source": [
        "Session_lebels = ['Late Night','Morning','Late Morning' ,'Afternoon','Evening','Night']\n",
        "data = data.assign(session = pd.cut(data.Request_timestamp.dt.hour,[-1,4,8,12,16,20,24],labels=Session_lebels))\n",
        "data.head()"
      ],
      "execution_count": 23,
      "outputs": [
        {
          "output_type": "execute_result",
          "data": {
            "text/html": [
              "<div>\n",
              "<style scoped>\n",
              "    .dataframe tbody tr th:only-of-type {\n",
              "        vertical-align: middle;\n",
              "    }\n",
              "\n",
              "    .dataframe tbody tr th {\n",
              "        vertical-align: top;\n",
              "    }\n",
              "\n",
              "    .dataframe thead th {\n",
              "        text-align: right;\n",
              "    }\n",
              "</style>\n",
              "<table border=\"1\" class=\"dataframe\">\n",
              "  <thead>\n",
              "    <tr style=\"text-align: right;\">\n",
              "      <th></th>\n",
              "      <th>Pickup_point</th>\n",
              "      <th>Status</th>\n",
              "      <th>Request_timestamp</th>\n",
              "      <th>session</th>\n",
              "    </tr>\n",
              "  </thead>\n",
              "  <tbody>\n",
              "    <tr>\n",
              "      <th>0</th>\n",
              "      <td>Airport</td>\n",
              "      <td>Trip Completed</td>\n",
              "      <td>2016-11-07 11:51:00</td>\n",
              "      <td>Late Morning</td>\n",
              "    </tr>\n",
              "    <tr>\n",
              "      <th>1</th>\n",
              "      <td>Airport</td>\n",
              "      <td>Trip Completed</td>\n",
              "      <td>2016-11-07 17:57:00</td>\n",
              "      <td>Evening</td>\n",
              "    </tr>\n",
              "    <tr>\n",
              "      <th>2</th>\n",
              "      <td>City</td>\n",
              "      <td>Trip Completed</td>\n",
              "      <td>2016-12-07 09:17:00</td>\n",
              "      <td>Late Morning</td>\n",
              "    </tr>\n",
              "    <tr>\n",
              "      <th>3</th>\n",
              "      <td>Airport</td>\n",
              "      <td>Trip Completed</td>\n",
              "      <td>2016-12-07 21:08:00</td>\n",
              "      <td>Night</td>\n",
              "    </tr>\n",
              "    <tr>\n",
              "      <th>4</th>\n",
              "      <td>City</td>\n",
              "      <td>Trip Completed</td>\n",
              "      <td>2016-07-13 08:33:16</td>\n",
              "      <td>Morning</td>\n",
              "    </tr>\n",
              "  </tbody>\n",
              "</table>\n",
              "</div>"
            ],
            "text/plain": [
              "  Pickup_point          Status   Request_timestamp       session\n",
              "0      Airport  Trip Completed 2016-11-07 11:51:00  Late Morning\n",
              "1      Airport  Trip Completed 2016-11-07 17:57:00       Evening\n",
              "2         City  Trip Completed 2016-12-07 09:17:00  Late Morning\n",
              "3      Airport  Trip Completed 2016-12-07 21:08:00         Night\n",
              "4         City  Trip Completed 2016-07-13 08:33:16       Morning"
            ]
          },
          "metadata": {},
          "execution_count": 23
        }
      ]
    },
    {
      "cell_type": "code",
      "metadata": {
        "colab": {
          "base_uri": "https://localhost:8080/",
          "height": 681
        },
        "id": "rkhupN7J529P",
        "outputId": "3f68e84b-b51e-4a89-842a-6daf1e982a82"
      },
      "source": [
        "plt.style.use('ggplot')\n",
        "colors = [\"#CC2529\", \"#8E8D8D\",\"#008000\"]\n",
        "data.groupby(['session','Status']).Status.count().unstack().plot.bar(legend=True, figsize=(15,10), color=colors)\n",
        "plt.title('Total Count of all Trip Status')\n",
        "plt.xlabel('Sessions')\n",
        "plt.ylabel('Total Count of Trip Status')\n",
        "plt.show()\n"
      ],
      "execution_count": 24,
      "outputs": [
        {
          "output_type": "display_data",
          "data": {
            "image/png": "[encoded data removed]",
            "text/plain": [
              "<Figure size 1080x720 with 1 Axes>"
            ]
          },
          "metadata": {}
        }
      ]
    },
    {
      "cell_type": "code",
      "metadata": {
        "colab": {
          "base_uri": "https://localhost:8080/"
        },
        "id": "tddzsqE1QNWO",
        "outputId": "9b138e9c-37cd-4df5-fe65-5f93d14299dd"
      },
      "source": [
        "cancelled_trips = data[data['Status'] == 'Cancelled']\n",
        "print(cancelled_trips.shape)"
      ],
      "execution_count": 25,
      "outputs": [
        {
          "output_type": "stream",
          "name": "stdout",
          "text": [
            "(1264, 4)\n"
          ]
        }
      ]
    },
    {
      "cell_type": "code",
      "metadata": {
        "colab": {
          "base_uri": "https://localhost:8080/"
        },
        "id": "CKJRiK2Bu3rZ",
        "outputId": "d9087e94-d4a0-4173-9b80-bf402aad4698"
      },
      "source": [
        "print(cancelled_trips.value_counts())\n"
      ],
      "execution_count": 26,
      "outputs": [
        {
          "output_type": "stream",
          "name": "stdout",
          "text": [
            "Pickup_point  Status     Request_timestamp    session     \n",
            "City          Cancelled  2016-11-07 07:33:00  Morning         4\n",
            "                         2016-11-07 10:04:00  Late Morning    3\n",
            "                         2016-12-07 06:41:00  Morning         3\n",
            "                         2016-12-07 10:04:00  Late Morning    3\n",
            "                         2016-11-07 04:58:00  Late Night      3\n",
            "                                                             ..\n",
            "                         2016-07-15 07:47:32  Morning         1\n",
            "                         2016-07-15 07:47:23  Morning         1\n",
            "                         2016-07-15 07:44:55  Morning         1\n",
            "                         2016-07-15 07:44:45  Morning         1\n",
            "Airport       Cancelled  2016-07-13 04:45:54  Late Night      1\n",
            "Length: 1179, dtype: int64\n"
          ]
        }
      ]
    },
    {
      "cell_type": "code",
      "metadata": {
        "colab": {
          "base_uri": "https://localhost:8080/"
        },
        "id": "oGhiOcQ-QNZ8",
        "outputId": "a3887259-d981-4978-eda0-af6af5993e94"
      },
      "source": [
        "no_cars_available = data[data['Status'] == 'No Cars Available']\n",
        "print(no_cars_available.shape)"
      ],
      "execution_count": 27,
      "outputs": [
        {
          "output_type": "stream",
          "name": "stdout",
          "text": [
            "(2650, 4)\n"
          ]
        }
      ]
    },
    {
      "cell_type": "code",
      "metadata": {
        "colab": {
          "base_uri": "https://localhost:8080/"
        },
        "id": "YXaIO94Au8RV",
        "outputId": "086213e7-9f03-43e7-e21e-8f9bd0e9a8a6"
      },
      "source": [
        "print(no_cars_available.value_counts())\n"
      ],
      "execution_count": 28,
      "outputs": [
        {
          "output_type": "stream",
          "name": "stdout",
          "text": [
            "Pickup_point  Status             Request_timestamp    session   \n",
            "Airport       No Cars Available  2016-11-07 19:02:00  Evening       6\n",
            "                                 2016-12-07 20:10:00  Evening       4\n",
            "                                 2016-11-07 20:47:00  Evening       4\n",
            "                                 2016-12-07 21:42:00  Night         4\n",
            "                                 2016-12-07 18:41:00  Evening       4\n",
            "                                                                   ..\n",
            "City          No Cars Available  2016-07-13 15:25:37  Afternoon     1\n",
            "                                 2016-07-13 15:41:19  Afternoon     1\n",
            "                                 2016-07-13 15:56:08  Afternoon     1\n",
            "                                 2016-07-13 16:07:19  Afternoon     1\n",
            "Airport       No Cars Available  2016-07-13 00:02:14  Late Night    1\n",
            "Length: 2429, dtype: int64\n"
          ]
        }
      ]
    },
    {
      "cell_type": "code",
      "metadata": {
        "colab": {
          "base_uri": "https://localhost:8080/"
        },
        "id": "l3RpHZ8GuvXI",
        "outputId": "559c75e8-a96f-4bb1-a28e-c36a412f41fe"
      },
      "source": [
        "completed_trips = data[data['Status'] == 'Trip Completed']\n",
        "print(completed_trips.shape)"
      ],
      "execution_count": 29,
      "outputs": [
        {
          "output_type": "stream",
          "name": "stdout",
          "text": [
            "(2831, 4)\n"
          ]
        }
      ]
    },
    {
      "cell_type": "code",
      "metadata": {
        "colab": {
          "base_uri": "https://localhost:8080/"
        },
        "id": "WxQkOAZ2vCgO",
        "outputId": "428e2668-4485-4012-ad66-75a910c43c82"
      },
      "source": [
        "print(completed_trips.value_counts())\n"
      ],
      "execution_count": 30,
      "outputs": [
        {
          "output_type": "stream",
          "name": "stdout",
          "text": [
            "Pickup_point  Status          Request_timestamp    session     \n",
            "Airport       Trip Completed  2016-11-07 22:00:00  Night           4\n",
            "City          Trip Completed  2016-11-07 05:12:00  Morning         3\n",
            "                              2016-12-07 05:16:00  Morning         3\n",
            "                              2016-11-07 05:45:00  Morning         3\n",
            "                              2016-12-07 09:40:00  Late Morning    3\n",
            "                                                                  ..\n",
            "                              2016-07-14 15:03:23  Afternoon       1\n",
            "                              2016-07-14 14:54:16  Afternoon       1\n",
            "                              2016-07-14 14:52:43  Afternoon       1\n",
            "                              2016-07-14 14:50:07  Afternoon       1\n",
            "Airport       Trip Completed  2016-07-13 00:06:34  Late Night      1\n",
            "Length: 2696, dtype: int64\n"
          ]
        }
      ]
    },
    {
      "cell_type": "code",
      "metadata": {
        "colab": {
          "base_uri": "https://localhost:8080/",
          "height": 408
        },
        "id": "AKcYbJI6uvTp",
        "outputId": "c26a5ea9-f79f-408f-9410-69071afca3d8"
      },
      "source": [
        "y = np.array([1264, 2650, 2831])\n",
        "statuslabels = [\"CANCELLED\", \"NO CARS AVAILABLE\", \"TRIP COMPLETED\"]\n",
        "plt.pie(y, labels = statuslabels, autopct = '%2.2f%%')"
      ],
      "execution_count": 31,
      "outputs": [
        {
          "output_type": "execute_result",
          "data": {
            "text/plain": [
              "([<matplotlib.patches.Wedge at 0x7ff9705566d0>,\n",
              "  <matplotlib.patches.Wedge at 0x7ff970556e10>,\n",
              "  <matplotlib.patches.Wedge at 0x7ff97055f6d0>],\n",
              " [Text(0.9148122117335421, 0.6108343615606322, 'CANCELLED'),\n",
              "  Text(-0.8197978372292601, 0.7334381405914392, 'NO CARS AVAILABLE'),\n",
              "  Text(0.27450168572516787, -1.0651989600699212, 'TRIP COMPLETED')],\n",
              " [Text(0.49898847912738653, 0.3331823790330721, '18.74%'),\n",
              "  Text(-0.44716245667050547, 0.40005716759533044, '39.29%'),\n",
              "  Text(0.1497281922137279, -0.5810176145835932, '41.97%')])"
            ]
          },
          "metadata": {},
          "execution_count": 31
        },
        {
          "output_type": "display_data",
          "data": {
            "image/png": "[encoded data removed]",
            "text/plain": [
              "<Figure size 432x288 with 1 Axes>"
            ]
          },
          "metadata": {}
        }
      ]
    },
    {
      "cell_type": "code",
      "metadata": {
        "colab": {
          "base_uri": "https://localhost:8080/",
          "height": 248
        },
        "id": "8Q-3kYVXuvSB",
        "outputId": "a09b3c52-8103-4b8a-bb5d-b2ea66aa8d0d"
      },
      "source": [
        "def make_autopct(values):\n",
        "    def my_autopct(pct):\n",
        "        total = sum(values)\n",
        "        val = int(round(pct*total/100.0))\n",
        "        return '{p:.2f}%  ({v:d})'.format(p=pct,v=val)\n",
        "    return my_autopct\n",
        "\n",
        "data['Pickup_point'].value_counts().plot.pie(autopct=make_autopct(data['Pickup_point'].value_counts()))\n",
        "plt.show()"
      ],
      "execution_count": 32,
      "outputs": [
        {
          "output_type": "display_data",
          "data": {
            "image/png": "[encoded data removed]",
            "text/plain": [
              "<Figure size 432x288 with 1 Axes>"
            ]
          },
          "metadata": {}
        }
      ]
    },
    {
      "cell_type": "code",
      "metadata": {
        "colab": {
          "base_uri": "https://localhost:8080/",
          "height": 355
        },
        "id": "u9GQb23juvQO",
        "outputId": "54477bcd-1867-448a-b04c-e0e563be6ed1"
      },
      "source": [
        "x = [\"Supply\", \"Demand\"]\n",
        "y = np.array([2831, 6745])\n",
        "plt.pie(y, labels = x, autopct = '%2.2f%%')"
      ],
      "execution_count": 33,
      "outputs": [
        {
          "output_type": "execute_result",
          "data": {
            "text/plain": [
              "([<matplotlib.patches.Wedge at 0x7ff970266e90>,\n",
              "  <matplotlib.patches.Wedge at 0x7ff970274590>],\n",
              " [Text(0.6587063113848798, 0.8809687822742223, 'Supply'),\n",
              "  Text(-0.6587063113848801, -0.8809687822742219, 'Demand')],\n",
              " [Text(0.3592943516644798, 0.48052842669503026, '29.56%'),\n",
              "  Text(-0.35929435166448004, -0.4805284266950301, '70.44%')])"
            ]
          },
          "metadata": {},
          "execution_count": 33
        },
        {
          "output_type": "display_data",
          "data": {
            "image/png": "[encoded data removed]",
            "text/plain": [
              "<Figure size 432x288 with 1 Axes>"
            ]
          },
          "metadata": {}
        }
      ]
    },
    {
      "cell_type": "code",
      "metadata": {
        "colab": {
          "base_uri": "https://localhost:8080/",
          "height": 681
        },
        "id": "1AcnJ9m6uvLu",
        "outputId": "714713d8-6d17-41c5-be4e-6c1dedb08d00"
      },
      "source": [
        "# plotting share/frequency of all \"Trip Status\" over the day to identify problem areas\n",
        "plt.style.use('ggplot')\n",
        "colors = [\"#CC2529\", \"#8E8D8D\",\"#008000\"]\n",
        "data.groupby(['session','Status']).Status.count().unstack().plot.bar(legend=True, figsize=(15,10), color=colors)\n",
        "plt.title('Total Count of all Trip Status')\n",
        "plt.xlabel('Sessions')\n",
        "plt.ylabel('Total Count of Trip Status')\n",
        "plt.show()"
      ],
      "execution_count": 35,
      "outputs": [
        {
          "output_type": "display_data",
          "data": {
            "image/png": "[encoded data removed]",
            "text/plain": [
              "<Figure size 1080x720 with 1 Axes>"
            ]
          },
          "metadata": {}
        }
      ]
    },
    {
      "cell_type": "markdown",
      "metadata": {
        "id": "7J5Vlo4UiLcE"
      },
      "source": [
        "##Observations:##\n",
        "####1. Maximum number of \"No Cars Available\" status trips can be seen in Evening Session (Time Slot: 4PM to 8PM), followed by Night session (8PM to Midnight).####\n",
        "####2. Maximum number of \"Cancelled\" status trips can be seen in Early Morning Session (Time Slot: 4AM to 8AM), followed by Late Morning session (8AM to Noon).####\n",
        "####3. Let's drill down further in each category to do a deeper analysis.####\n"
      ]
    },
    {
      "cell_type": "code",
      "metadata": {
        "colab": {
          "base_uri": "https://localhost:8080/",
          "height": 204
        },
        "id": "U-tpIlLEuvHM",
        "outputId": "5e2e1779-6bdd-451b-fcaf-057f8d38f2df"
      },
      "source": [
        "data_tripscancelled=data[data[\"Status\"].str.contains('Cancelled')==True]\n",
        "data_tripscancelled=data_tripscancelled.reset_index(drop=True)\n",
        "data_tripscancelled.head()"
      ],
      "execution_count": 37,
      "outputs": [
        {
          "output_type": "execute_result",
          "data": {
            "text/html": [
              "<div>\n",
              "<style scoped>\n",
              "    .dataframe tbody tr th:only-of-type {\n",
              "        vertical-align: middle;\n",
              "    }\n",
              "\n",
              "    .dataframe tbody tr th {\n",
              "        vertical-align: top;\n",
              "    }\n",
              "\n",
              "    .dataframe thead th {\n",
              "        text-align: right;\n",
              "    }\n",
              "</style>\n",
              "<table border=\"1\" class=\"dataframe\">\n",
              "  <thead>\n",
              "    <tr style=\"text-align: right;\">\n",
              "      <th></th>\n",
              "      <th>Pickup_point</th>\n",
              "      <th>Status</th>\n",
              "      <th>Request_timestamp</th>\n",
              "      <th>session</th>\n",
              "    </tr>\n",
              "  </thead>\n",
              "  <tbody>\n",
              "    <tr>\n",
              "      <th>0</th>\n",
              "      <td>City</td>\n",
              "      <td>Cancelled</td>\n",
              "      <td>2016-07-13 06:08:41</td>\n",
              "      <td>Morning</td>\n",
              "    </tr>\n",
              "    <tr>\n",
              "      <th>1</th>\n",
              "      <td>City</td>\n",
              "      <td>Cancelled</td>\n",
              "      <td>2016-07-14 17:07:58</td>\n",
              "      <td>Evening</td>\n",
              "    </tr>\n",
              "    <tr>\n",
              "      <th>2</th>\n",
              "      <td>Airport</td>\n",
              "      <td>Cancelled</td>\n",
              "      <td>2016-07-14 20:51:37</td>\n",
              "      <td>Evening</td>\n",
              "    </tr>\n",
              "    <tr>\n",
              "      <th>3</th>\n",
              "      <td>City</td>\n",
              "      <td>Cancelled</td>\n",
              "      <td>2016-07-15 10:12:40</td>\n",
              "      <td>Late Morning</td>\n",
              "    </tr>\n",
              "    <tr>\n",
              "      <th>4</th>\n",
              "      <td>Airport</td>\n",
              "      <td>Cancelled</td>\n",
              "      <td>2016-12-07 19:14:00</td>\n",
              "      <td>Evening</td>\n",
              "    </tr>\n",
              "  </tbody>\n",
              "</table>\n",
              "</div>"
            ],
            "text/plain": [
              "  Pickup_point     Status   Request_timestamp       session\n",
              "0         City  Cancelled 2016-07-13 06:08:41       Morning\n",
              "1         City  Cancelled 2016-07-14 17:07:58       Evening\n",
              "2      Airport  Cancelled 2016-07-14 20:51:37       Evening\n",
              "3         City  Cancelled 2016-07-15 10:12:40  Late Morning\n",
              "4      Airport  Cancelled 2016-12-07 19:14:00       Evening"
            ]
          },
          "metadata": {},
          "execution_count": 37
        }
      ]
    },
    {
      "cell_type": "code",
      "metadata": {
        "colab": {
          "base_uri": "https://localhost:8080/",
          "height": 681
        },
        "id": "jGw2xSRruvFn",
        "outputId": "975974d4-8288-4a9a-ee94-bab9cd75af4c"
      },
      "source": [
        "plt.style.use('ggplot')\n",
        "colors = [\"#20B2AA\", \"#9400D3\"]\n",
        "data_tripscancelled.groupby(['session','Pickup_point']).Pickup_point.count().unstack().plot.bar(legend=True, figsize=(15,10), color=colors)\n",
        "plt.title('Count and Distribution of all \"Cancelled\" Trips over the day')\n",
        "plt.xlabel('Sessions')\n",
        "plt.ylabel('Total Count of \"Cancelled\" Trips')\n",
        "plt.show()"
      ],
      "execution_count": 38,
      "outputs": [
        {
          "output_type": "display_data",
          "data": {
            "image/png": "[encoded data removed]",
            "text/plain": [
              "<Figure size 1080x720 with 1 Axes>"
            ]
          },
          "metadata": {}
        }
      ]
    },
    {
      "cell_type": "markdown",
      "metadata": {
        "id": "ce-D6t9fj8P1"
      },
      "source": [
        "#Observation :#\n",
        "####**Maximum Cancellations happen in \"Early Morning\" (4AM-8AM) session where the pick up is \"City\", followed by Late Morning session (8AM-Noon)**####\n",
        "\n",
        "#Inference:#\n",
        "####**Most number of cancellations happen in the Morning hours (4AM-8AM) in the City to Airport route.**####\n"
      ]
    },
    {
      "cell_type": "code",
      "metadata": {
        "colab": {
          "base_uri": "https://localhost:8080/",
          "height": 204
        },
        "id": "7y4zmGDKjw9q",
        "outputId": "cef588e6-fc03-4d12-83ff-e32974c9c866"
      },
      "source": [
        "# Filtering out only \"Cancelled\"  trips\n",
        "data_nocar=data[data[\"Status\"].str.contains('No Car')==True]\n",
        "data_nocar=data_nocar.reset_index(drop=True)\n",
        "data_nocar.head()"
      ],
      "execution_count": 39,
      "outputs": [
        {
          "output_type": "execute_result",
          "data": {
            "text/html": [
              "<div>\n",
              "<style scoped>\n",
              "    .dataframe tbody tr th:only-of-type {\n",
              "        vertical-align: middle;\n",
              "    }\n",
              "\n",
              "    .dataframe tbody tr th {\n",
              "        vertical-align: top;\n",
              "    }\n",
              "\n",
              "    .dataframe thead th {\n",
              "        text-align: right;\n",
              "    }\n",
              "</style>\n",
              "<table border=\"1\" class=\"dataframe\">\n",
              "  <thead>\n",
              "    <tr style=\"text-align: right;\">\n",
              "      <th></th>\n",
              "      <th>Pickup_point</th>\n",
              "      <th>Status</th>\n",
              "      <th>Request_timestamp</th>\n",
              "      <th>session</th>\n",
              "    </tr>\n",
              "  </thead>\n",
              "  <tbody>\n",
              "    <tr>\n",
              "      <th>0</th>\n",
              "      <td>City</td>\n",
              "      <td>No Cars Available</td>\n",
              "      <td>2016-11-07 00:02:00</td>\n",
              "      <td>Late Night</td>\n",
              "    </tr>\n",
              "    <tr>\n",
              "      <th>1</th>\n",
              "      <td>City</td>\n",
              "      <td>No Cars Available</td>\n",
              "      <td>2016-11-07 00:06:00</td>\n",
              "      <td>Late Night</td>\n",
              "    </tr>\n",
              "    <tr>\n",
              "      <th>2</th>\n",
              "      <td>City</td>\n",
              "      <td>No Cars Available</td>\n",
              "      <td>2016-11-07 00:09:00</td>\n",
              "      <td>Late Night</td>\n",
              "    </tr>\n",
              "    <tr>\n",
              "      <th>3</th>\n",
              "      <td>Airport</td>\n",
              "      <td>No Cars Available</td>\n",
              "      <td>2016-11-07 00:23:00</td>\n",
              "      <td>Late Night</td>\n",
              "    </tr>\n",
              "    <tr>\n",
              "      <th>4</th>\n",
              "      <td>Airport</td>\n",
              "      <td>No Cars Available</td>\n",
              "      <td>2016-11-07 00:30:00</td>\n",
              "      <td>Late Night</td>\n",
              "    </tr>\n",
              "  </tbody>\n",
              "</table>\n",
              "</div>"
            ],
            "text/plain": [
              "  Pickup_point             Status   Request_timestamp     session\n",
              "0         City  No Cars Available 2016-11-07 00:02:00  Late Night\n",
              "1         City  No Cars Available 2016-11-07 00:06:00  Late Night\n",
              "2         City  No Cars Available 2016-11-07 00:09:00  Late Night\n",
              "3      Airport  No Cars Available 2016-11-07 00:23:00  Late Night\n",
              "4      Airport  No Cars Available 2016-11-07 00:30:00  Late Night"
            ]
          },
          "metadata": {},
          "execution_count": 39
        }
      ]
    },
    {
      "cell_type": "code",
      "metadata": {
        "colab": {
          "base_uri": "https://localhost:8080/",
          "height": 681
        },
        "id": "faYohFYIjw7P",
        "outputId": "fa32cafe-5993-4f94-a290-6689a1a8f7b2"
      },
      "source": [
        "plt.style.use('ggplot')\n",
        "colors = [\"#20B2AA\", \"#9400D3\"]\n",
        "data_nocar.groupby(['session','Pickup_point']).Pickup_point.count().unstack().plot.bar(legend=True, figsize=(15,10), color=colors)\n",
        "plt.title('Count and Distribution of all \"No Car Available\" Trips over the day')\n",
        "plt.xlabel('Sessions')\n",
        "plt.ylabel('Total Count of \"No Car Availble\" Trips')\n",
        "plt.show()"
      ],
      "execution_count": 40,
      "outputs": [
        {
          "output_type": "display_data",
          "data": {
            "image/png": "[encoded data removed]",
            "text/plain": [
              "<Figure size 1080x720 with 1 Axes>"
            ]
          },
          "metadata": {}
        }
      ]
    },
    {
      "cell_type": "markdown",
      "metadata": {
        "id": "1Ex5Lz_ZlEgv"
      },
      "source": [
        "#Observation :#\n",
        "####**1. Maximum \"No Cars Available\" trips happen in \"Evening\" (4PM-8PM) session where the pick up is \"Airport\", followed by Night session (8PM-Midnight)**####\n",
        "\n",
        "#Inference :#\n",
        "####**2.Most number of No Cars Available happen in the Evening Hours (4PM-8PM) in the Airport to City route.####**\n",
        "\n",
        "\n",
        "\n"
      ]
    },
    {
      "cell_type": "markdown",
      "metadata": {
        "id": "GEJtfqxulsn3"
      },
      "source": [
        "##**Let's drill down further by Pick-Up Point .**##"
      ]
    },
    {
      "cell_type": "code",
      "metadata": {
        "colab": {
          "base_uri": "https://localhost:8080/",
          "height": 681
        },
        "id": "k3HpvqAJjw33",
        "outputId": "c13f738f-da2f-43ba-d7cc-e571a7505c2b"
      },
      "source": [
        "# Filtering out trips in the City to Airport route. Pick-up Point - City\n",
        "data_citytoairport=data[data[\"Pickup_point\"].str.contains('City')==True]\n",
        "plt.style.use('ggplot')\n",
        "colors = [\"#CC2529\", \"#8E8D8D\",\"#008000\"]\n",
        "data_citytoairport.groupby(['session','Status']).Status.count().unstack().plot.bar(legend=True, figsize=(15,10), color=colors)\n",
        "plt.title('Total count of all Trip Statuses over the day for City to Airport route')\n",
        "plt.xlabel('Sessions')\n",
        "plt.ylabel('Total Count of Trips')\n",
        "plt.show()"
      ],
      "execution_count": 41,
      "outputs": [
        {
          "output_type": "display_data",
          "data": {
            "image/png": "[encoded data removed]",
            "text/plain": [
              "<Figure size 1080x720 with 1 Axes>"
            ]
          },
          "metadata": {}
        }
      ]
    },
    {
      "cell_type": "markdown",
      "metadata": {
        "id": "5_G3EBTZmAuc"
      },
      "source": [
        "####**We see that maximum trips cancelled are from City to airport in the Early Morning session followed by Late Morning Session.**####"
      ]
    },
    {
      "cell_type": "code",
      "metadata": {
        "colab": {
          "base_uri": "https://localhost:8080/",
          "height": 204
        },
        "id": "c9WMzzRAQNcX",
        "outputId": "5cedfcbe-0d7e-4d13-a2ab-a926a2ae68a6"
      },
      "source": [
        "data[\"Supply_demand\"] = [\"supply\" if x == \"Trip Completed\" else \"Demand\" for x in data[\"Status\"]]\n",
        "data.head()"
      ],
      "execution_count": 46,
      "outputs": [
        {
          "output_type": "execute_result",
          "data": {
            "text/html": [
              "<div>\n",
              "<style scoped>\n",
              "    .dataframe tbody tr th:only-of-type {\n",
              "        vertical-align: middle;\n",
              "    }\n",
              "\n",
              "    .dataframe tbody tr th {\n",
              "        vertical-align: top;\n",
              "    }\n",
              "\n",
              "    .dataframe thead th {\n",
              "        text-align: right;\n",
              "    }\n",
              "</style>\n",
              "<table border=\"1\" class=\"dataframe\">\n",
              "  <thead>\n",
              "    <tr style=\"text-align: right;\">\n",
              "      <th></th>\n",
              "      <th>Pickup_point</th>\n",
              "      <th>Status</th>\n",
              "      <th>Request_timestamp</th>\n",
              "      <th>session</th>\n",
              "      <th>Supply_demand</th>\n",
              "    </tr>\n",
              "  </thead>\n",
              "  <tbody>\n",
              "    <tr>\n",
              "      <th>0</th>\n",
              "      <td>Airport</td>\n",
              "      <td>Trip Completed</td>\n",
              "      <td>2016-11-07 11:51:00</td>\n",
              "      <td>Late Morning</td>\n",
              "      <td>supply</td>\n",
              "    </tr>\n",
              "    <tr>\n",
              "      <th>1</th>\n",
              "      <td>Airport</td>\n",
              "      <td>Trip Completed</td>\n",
              "      <td>2016-11-07 17:57:00</td>\n",
              "      <td>Evening</td>\n",
              "      <td>supply</td>\n",
              "    </tr>\n",
              "    <tr>\n",
              "      <th>2</th>\n",
              "      <td>City</td>\n",
              "      <td>Trip Completed</td>\n",
              "      <td>2016-12-07 09:17:00</td>\n",
              "      <td>Late Morning</td>\n",
              "      <td>supply</td>\n",
              "    </tr>\n",
              "    <tr>\n",
              "      <th>3</th>\n",
              "      <td>Airport</td>\n",
              "      <td>Trip Completed</td>\n",
              "      <td>2016-12-07 21:08:00</td>\n",
              "      <td>Night</td>\n",
              "      <td>supply</td>\n",
              "    </tr>\n",
              "    <tr>\n",
              "      <th>4</th>\n",
              "      <td>City</td>\n",
              "      <td>Trip Completed</td>\n",
              "      <td>2016-07-13 08:33:16</td>\n",
              "      <td>Morning</td>\n",
              "      <td>supply</td>\n",
              "    </tr>\n",
              "  </tbody>\n",
              "</table>\n",
              "</div>"
            ],
            "text/plain": [
              "  Pickup_point          Status   Request_timestamp       session Supply_demand\n",
              "0      Airport  Trip Completed 2016-11-07 11:51:00  Late Morning        supply\n",
              "1      Airport  Trip Completed 2016-11-07 17:57:00       Evening        supply\n",
              "2         City  Trip Completed 2016-12-07 09:17:00  Late Morning        supply\n",
              "3      Airport  Trip Completed 2016-12-07 21:08:00         Night        supply\n",
              "4         City  Trip Completed 2016-07-13 08:33:16       Morning        supply"
            ]
          },
          "metadata": {},
          "execution_count": 46
        }
      ]
    },
    {
      "cell_type": "code",
      "metadata": {
        "colab": {
          "base_uri": "https://localhost:8080/",
          "height": 626
        },
        "id": "29ULFhQVnTK4",
        "outputId": "3e186edc-e752-4b60-8394-1261b1eaa138"
      },
      "source": [
        "#Plotting Supply and Demand on the City to Airport Route\n",
        "data_city_to_airport_supply_demand=data[data[\"Pickup_point\"].str.contains('City')==True]\n",
        "plt.style.use('ggplot')\n",
        "data_city_to_airport_supply_demand.groupby(['session','Supply_demand']).Supply_demand.count().unstack().plot.line(legend=True, figsize=(15,10))\n",
        "plt.title('Supply-Demand curve for City to Airport Route')\n",
        "plt.xlabel('Sessions')\n",
        "plt.ylabel('Supply/Demand')\n",
        "plt.show()"
      ],
      "execution_count": 47,
      "outputs": [
        {
          "output_type": "display_data",
          "data": {
            "image/png": "[encoded data removed]",
            "text/plain": [
              "<Figure size 1080x720 with 1 Axes>"
            ]
          },
          "metadata": {}
        }
      ]
    },
    {
      "cell_type": "markdown",
      "metadata": {
        "id": "dJQvSabInkhq"
      },
      "source": [
        "**We observe that the Demand is very high in the morning from City to Airport route but the supply is very low .**\n"
      ]
    },
    {
      "cell_type": "code",
      "metadata": {
        "colab": {
          "base_uri": "https://localhost:8080/",
          "height": 626
        },
        "id": "rIokFjvTnTIz",
        "outputId": "8dd0224a-2b49-4cc8-c358-22391fa5f650"
      },
      "source": [
        "#Plotting Supply and Demand on the Airport to City route\n",
        "data_airport_to_city_supply_demand=data[data[\"Pickup_point\"].str.contains('Airport')==True]\n",
        "plt.style.use('ggplot')\n",
        "data_airport_to_city_supply_demand.groupby(['session','Supply_demand']).Supply_demand.count().unstack().plot.line(legend=True, figsize=(15,10))\n",
        "plt.title('Supply-Demand curve for Airport to City Route')\n",
        "plt.xlabel('Sessions')\n",
        "plt.ylabel('Supply/Demand')\n",
        "plt.show()"
      ],
      "execution_count": 49,
      "outputs": [
        {
          "output_type": "display_data",
          "data": {
            "image/png": "[encoded data removed]",
            "text/plain": [
              "<Figure size 1080x720 with 1 Axes>"
            ]
          },
          "metadata": {}
        }
      ]
    },
    {
      "cell_type": "markdown",
      "metadata": {
        "id": "93NEIWYEpTS7"
      },
      "source": [
        "**We observe that the Demand is very high in the evening in the Airport to City route but the supply is very low**\n",
        "\n",
        "\n",
        "##*Correlating these two plots, a possible hypothesis could be:*##\n",
        "\n",
        "\n",
        "The demand during morning and afternoon hours from the Airport to City is quite low, which means that a driver who completed a City to Airport route in the morning hours may have to wait a really long time to get a ride back to the City, or he may have to come back without a passenger. Both situations are not idle for drivers, which might be the reason for highest number of \"Cancelled\" trips in the City to Airport trip in the morning hours The vice versa happens in evening when there are too many flight coming in to the airport and hence there is a high demand for cabs and not enough supply. which is why most number of \"No Cars Available\" were observed in Evening in the Airport to City route.\n",
        "\n",
        "#**Possible Solution:**#\n",
        "\n",
        "1.Give incentives/surge pricing/bonus for trips from City to Airport during Morning hours. \n",
        "\n",
        "2.Give incentives/surge pricing/bonus for trips from Airport to City during \n",
        "Evening hours. \n",
        "\n",
        "3.Uber can give Gas expense to drivers qwhen they return from Airport without a ride or go to airpot for pick up without a ride. \n",
        "\n",
        "4.Give incentives/surge pricing/bonus for trips from City to Airport during Morning hours. \n",
        "\n",
        "5.Give incentives/surge pricing/bonus for trips from Airport to City during Evening hours. \n",
        "\n",
        "6.Uber can give Gas expense to drivers qwhen they return from Airport without a ride or go to airpot for pick up without a ride. \n",
        "\n",
        "7.Uber can increase market share by marketing campaigns and offers to customers when demand is low."
      ]
    },
    {
      "cell_type": "code",
      "metadata": {
        "id": "bMb5V0b5nTFG"
      },
      "source": [
        ""
      ],
      "execution_count": null,
      "outputs": []
    },
    {
      "cell_type": "code",
      "metadata": {
        "id": "1yE8wocMnS9i"
      },
      "source": [
        ""
      ],
      "execution_count": null,
      "outputs": []
    },
    {
      "cell_type": "code",
      "metadata": {
        "id": "10FomZH6nS4q"
      },
      "source": [
        ""
      ],
      "execution_count": null,
      "outputs": []
    },
    {
      "cell_type": "code",
      "metadata": {
        "id": "LRxmZKZ6nS2a"
      },
      "source": [
        ""
      ],
      "execution_count": null,
      "outputs": []
    },
    {
      "cell_type": "code",
      "metadata": {
        "id": "IvvI19uInSy2"
      },
      "source": [
        ""
      ],
      "execution_count": null,
      "outputs": []
    },
    {
      "cell_type": "code",
      "metadata": {
        "id": "rjI1sBcJnSwt"
      },
      "source": [
        ""
      ],
      "execution_count": null,
      "outputs": []
    },
    {
      "cell_type": "code",
      "metadata": {
        "id": "Hcmjz_5aQNex"
      },
      "source": [
        ""
      ],
      "execution_count": 34,
      "outputs": []
    }
  ]
}